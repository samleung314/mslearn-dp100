{
  "cells": [
    {
      "cell_type": "code",
      "source": [
        "import azureml\r\n",
        "import pandas\r\n",
        "import mlflow\r\n",
        "import numpy\r\n",
        "import sklearn\r\n",
        "import joblib\r\n",
        "import requests\r\n",
        "import json\r\n",
        "\r\n",
        "from azureml.core import Model\r\n",
        "from azureml.core import Run\r\n",
        "import pandas as pd\r\n",
        "import numpy as np\r\n",
        "import joblib\r\n",
        "import os\r\n",
        "import argparse\r\n",
        "from sklearn.model_selection import train_test_split\r\n",
        "from sklearn.linear_model import LogisticRegression\r\n",
        "from sklearn.metrics import roc_auc_score\r\n",
        "from sklearn.metrics import roc_curve\r\n",
        "\r\n",
        "from azureml.core import Experiment, ScriptRunConfig, Environment\r\n",
        "from azureml.widgets import RunDetails"
      ],
      "outputs": [],
      "execution_count": 6,
      "metadata": {
        "jupyter": {
          "source_hidden": false,
          "outputs_hidden": false
        },
        "nteract": {
          "transient": {
            "deleting": false
          }
        },
        "gather": {
          "logged": 1646342134205
        }
      }
    },
    {
      "cell_type": "code",
      "source": [
        "packages = [\r\n",
        "'azureml',\r\n",
        "'azureml.datadrift',\r\n",
        "\r\n",
        "'pandas',\r\n",
        "'mlflow',\r\n",
        "'numpy',\r\n",
        "'sklearn',\r\n",
        "'joblib',\r\n",
        "'requests',\r\n",
        "'json',\r\n",
        "]\r\n",
        "\r\n",
        "def install_and_import(package):\r\n",
        "    import importlib\r\n",
        "    try:\r\n",
        "        importlib.import_module(package)\r\n",
        "        print('IMPORT SUCCESS: ', package)\r\n",
        "    except ImportError:\r\n",
        "        import pip\r\n",
        "        print(package, ' NOT FOUND, installing...')\r\n",
        "        pip.main(['install', package])\r\n",
        "    finally:\r\n",
        "        globals()[package] = importlib.import_module(package)\r\n",
        "\r\n",
        "for p in packages:\r\n",
        "    install_and_import(p)"
      ],
      "outputs": [
        {
          "output_type": "stream",
          "name": "stdout",
          "text": "IMPORT SUCCESS:  azureml\nIMPORT SUCCESS:  azureml.datadrift\nIMPORT SUCCESS:  pandas\nIMPORT SUCCESS:  mlflow\nIMPORT SUCCESS:  numpy\nIMPORT SUCCESS:  sklearn\nIMPORT SUCCESS:  joblib\nIMPORT SUCCESS:  requests\nIMPORT SUCCESS:  json\n"
        }
      ],
      "execution_count": 7,
      "metadata": {
        "jupyter": {
          "source_hidden": false,
          "outputs_hidden": false
        },
        "nteract": {
          "transient": {
            "deleting": false
          }
        },
        "gather": {
          "logged": 1646342136375
        }
      }
    },
    {
      "cell_type": "code",
      "source": [
        "%run ./Install_Packages.py"
      ],
      "outputs": [
        {
          "output_type": "stream",
          "name": "stdout",
          "text": "IMPORT SUCCESS:  azureml\nIMPORT SUCCESS:  pandas\nIMPORT SUCCESS:  mlflow\nIMPORT SUCCESS:  numpy\nIMPORT SUCCESS:  sklearn\nIMPORT SUCCESS:  joblib\nIMPORT SUCCESS:  requests\nIMPORT SUCCESS:  json\nIMPORT SUCCESS:  azureml.datadrift\n"
        },
        {
          "output_type": "stream",
          "name": "stderr",
          "text": "/anaconda/envs/azureml_py36/lib/python3.6/importlib/__init__.py:126: FutureWarning: MLflow support for Python 3.6 is deprecated and will be dropped in an upcoming release. At that point, existing Python 3.6 workflows that use MLflow will continue to work without modification, but Python 3.6 users will no longer get access to the latest MLflow features and bugfixes. We recommend that you upgrade to Python 3.7 or newer.\n  return _bootstrap._gcd_import(name[level:], package, level)\n"
        }
      ],
      "execution_count": 2,
      "metadata": {
        "jupyter": {
          "source_hidden": false,
          "outputs_hidden": false
        },
        "nteract": {
          "transient": {
            "deleting": false
          }
        }
      }
    }
  ],
  "metadata": {
    "kernelspec": {
      "name": "python3-azureml",
      "language": "python",
      "display_name": "Python 3.6 - AzureML"
    },
    "language_info": {
      "name": "python",
      "version": "3.6.9",
      "mimetype": "text/x-python",
      "codemirror_mode": {
        "name": "ipython",
        "version": 3
      },
      "pygments_lexer": "ipython3",
      "nbconvert_exporter": "python",
      "file_extension": ".py"
    },
    "kernel_info": {
      "name": "python3-azureml"
    },
    "nteract": {
      "version": "nteract-front-end@1.0.0"
    },
    "microsoft": {
      "host": {
        "AzureML": {
          "notebookHasBeenCompleted": true
        }
      }
    }
  },
  "nbformat": 4,
  "nbformat_minor": 0
}