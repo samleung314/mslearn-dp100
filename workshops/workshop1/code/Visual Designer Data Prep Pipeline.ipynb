{
 "cells": [
  {
   "cell_type": "markdown",
   "metadata": {},
   "source": [
    "Data Prep\n",
    "1) Add surrogate key\n",
    "2) Bin age group\n"
   ]
  }
 ],
 "metadata": {
  "language_info": {
   "name": "python"
  },
  "orig_nbformat": 4
 },
 "nbformat": 4,
 "nbformat_minor": 2
}
