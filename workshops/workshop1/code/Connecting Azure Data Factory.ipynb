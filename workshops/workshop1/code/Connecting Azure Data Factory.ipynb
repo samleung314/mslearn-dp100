{
 "cells": [
  {
   "cell_type": "markdown",
   "metadata": {},
   "source": [
    "## Resources\n",
    "1. [Linked Services in Azure Data Factory](https://docs.microsoft.com/en-us/azure/data-factory/v1/data-factory-introduction#linked-services)\n",
    "1. [Execute Azure Machine Learning pipelines in Azure Data Factory and Synapse Analytics](https://docs.microsoft.com/en-us/azure/data-factory/transform-data-machine-learning-service)\n"
   ]
  },
  {
   "cell_type": "markdown",
   "metadata": {},
   "source": [
    "# Connecting Azure Data Factory (ADF)\n",
    "Is this exercise we will establish a linked service  for our Azure Machine Learning (AML) workspace in Azure Data Factory (ADF). This will enable us to use the AML pipeline activity in ADF to orchestrate our machine learning process.\n",
    "\n",
    "Linked services are much like connection strings, which define the connection information that's needed for Data Factory to connect to external resources. Think of it this way: a linked service defines the connection to the data source and a dataset represents the structure of the data."
   ]
  },
  {
   "cell_type": "markdown",
   "metadata": {},
   "source": [
    "## Create a linked service to AML Compute\n",
    "1. Open **Manage > Connections - Linked services** in the studio\n",
    "\n",
    "    ![step1](./img/adfLinkService1.png)<!--Use four spaces to indent content between bullet points-->\n",
    "<br>\n",
    "<br>\n",
    "1. In the \"New linked service\" pane, select **Compute > Azure Machine Learning**\n",
    "\n",
    "    ![step2](./img/adfLinkService2.png)\n",
    "<br>\n",
    "<br>\n",
    "1. Create the linked service with the settings as shown and test the connection. If the connection fails, retry the **Azure Machine Learning workspace selection method** using the **Enter manually** option\n",
    "\n",
    "    ![step3](./img/adfLinkService3.png)"
   ]
  },
  {
   "cell_type": "markdown",
   "metadata": {},
   "source": []
  }
 ],
 "metadata": {
  "language_info": {
   "name": "python"
  },
  "orig_nbformat": 4
 },
 "nbformat": 4,
 "nbformat_minor": 2
}
