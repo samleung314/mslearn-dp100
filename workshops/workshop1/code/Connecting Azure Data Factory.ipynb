{
 "cells": [
  {
   "cell_type": "markdown",
   "metadata": {},
   "source": [
    "## Resources\n",
    "1. [Linked Services in Azure Data Factory](https://docs.microsoft.com/en-us/azure/data-factory/v1/data-factory-introduction#linked-services)\n",
    "1. [Execute Azure Machine Learning pipelines in Azure Data Factory and Synapse Analytics](https://docs.microsoft.com/en-us/azure/data-factory/transform-data-machine-learning-service)\n",
    "1. [Give MSI permission to the Azure ML workspace](https://docs.microsoft.com/en-us/azure/synapse-analytics/machine-learning/quickstart-integrate-azure-machine-learning#give-msi-permission-to-the-azure-ml-workspace)\n"
   ]
  },
  {
   "cell_type": "markdown",
   "metadata": {},
   "source": [
    "# Connecting Azure Data Factory (ADF)\n",
    "Is this exercise we will establish a linked service  for our Azure Machine Learning (AML) workspace in Azure Data Factory (ADF). This will enable us to use the AML pipeline activity in ADF to orchestrate our machine learning process.\n",
    "\n",
    "Linked services are much like connection strings, which define the connection information that's needed for Data Factory to connect to external resources. Think of it this way: a linked service defines the connection to the data source and a dataset represents the structure of the data."
   ]
  },
  {
   "cell_type": "markdown",
   "metadata": {},
   "source": [
    "### Give MSI permission to the Azure ML workspace\n",
    "\n",
    "1. Navigate to your Azure Machine Learning workspace resource in the Azure portal and select **Access Control**\n",
    "<br>\n",
    "<br>\n",
    "1. Create a role assignment and add your ADF workspace Managed Service identity (MSI) as a **Contributor** of the Azure Machine Learning workspace. Note that this will require being an **Owner** of the resource group that the Azure Machine Learning workspace belongs to. If you have trouble finding your ADF workspace MSI, search for the name of the ADF workspace.\n",
    "\n",
    "    ![](./img/adfLinkService4.png)"
   ]
  },
  {
   "cell_type": "markdown",
   "metadata": {},
   "source": [
    "### Create a linked service to AML Compute\n",
    "1. Open **Manage > Connections - Linked services** in the studio\n",
    "\n",
    "    ![](./img/adfLinkService1.png)<!--Use four spaces to indent content between bullet points-->\n",
    "<br>\n",
    "<br>\n",
    "1. In the \"New linked service\" pane, select **Compute > Azure Machine Learning**\n",
    "\n",
    "    ![](./img/adfLinkService2.png)\n",
    "<br>\n",
    "<br>\n",
    "1. Fill out the form:\n",
    "\n",
    "    - Provide the details about the Azure Machine Learning workspace you want to link to. This includes details about subscription and workspace name.\n",
    "\n",
    "    - Select Authentication Method: **Managed Identity**\n",
    "<br>\n",
    "<br>\n",
    "1. Click **Test Connection** to verify if the configuration is correct. If the connection test passes, click **Save**. Then **Publish** the changes in the workspace to save the newly created Linked Service\n",
    "<br>\n",
    "<br>\n",
    "If the connection test fails, make sure that the ADF workspace MSI has permissions to access this Azure Machine Learning workspace, and try again.\n",
    "\n",
    "    ![](./img/adfLinkService3.png)"
   ]
  }
 ],
 "metadata": {
  "language_info": {
   "name": "python"
  },
  "orig_nbformat": 4
 },
 "nbformat": 4,
 "nbformat_minor": 2
}
