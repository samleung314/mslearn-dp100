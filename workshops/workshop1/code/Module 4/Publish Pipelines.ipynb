{
 "cells": [
  {
   "cell_type": "code",
   "execution_count": null,
   "metadata": {},
   "outputs": [],
   "source": [
    "import azureml.core\n",
    "from azureml.core import Workspace\n",
    "\n",
    "# Load the workspace from the saved config file\n",
    "ws = Workspace.from_config()\n",
    "print('Ready to use Azure ML {} to work with {}'.format(azureml.core.VERSION, ws.name))"
   ]
  },
  {
   "cell_type": "code",
   "execution_count": null,
   "metadata": {},
   "outputs": [],
   "source": [
    "#TODO: Name your artifacts\n",
    "# userid = <userid>\n",
    "userid = ''\n",
    "\n",
    "tabular_dataset_name = 'diabetes-data-' + userid + '-raw'\n",
    "experiment_name = 'pipeline-train-diabetes-' + userid + '-prod'\n"
   ]
  },
  {
   "cell_type": "markdown",
   "metadata": {},
   "source": [
    "## Training Pipeline"
   ]
  },
  {
   "cell_type": "code",
   "execution_count": null,
   "metadata": {},
   "outputs": [],
   "source": [
    "import os\n",
    "\n",
    "# Create a folder for the experiment files\n",
    "experiment_folder = 'experiment_folder'\n",
    "os.makedirs(experiment_folder, exist_ok=True)\n",
    "print(experiment_folder, 'folder created')"
   ]
  },
  {
   "cell_type": "code",
   "execution_count": null,
   "metadata": {},
   "outputs": [],
   "source": [
    "%%writefile $experiment_folder/diabetes_training.py\n",
    "# Import libraries\n",
    "import os\n",
    "import argparse\n",
    "import azureml.core\n",
    "from azureml.core import Run, Dataset, Model, Workspace\n",
    "from azureml.core.authentication import MsiAuthentication\n",
    "import pandas as pd\n",
    "import numpy as np\n",
    "import joblib\n",
    "from sklearn.model_selection import train_test_split\n",
    "from sklearn.linear_model import LogisticRegression\n",
    "from sklearn.metrics import roc_auc_score\n",
    "from sklearn.metrics import roc_curve\n",
    "\n",
    "parser = argparse.ArgumentParser()\n",
    "parser.add_argument('--regularization', type=float, dest='reg_rate', default=0.01, help='regularization rate')\n",
    "parser.add_argument(\"--input-data\", type=str, dest='training_dataset_id', help='training dataset')\n",
    "args = parser.parse_args()\n",
    "\n",
    "# Set these variables\n",
    "model_name = ''\n",
    "experiment_name = ''\n",
    "subscription_id = ''\n",
    "resource_group = ''\n",
    "workspace_name = ''\n",
    "\n",
    "\n",
    "# Set regularization hyperparameter (passed as an argument to the script)\n",
    "reg = args.reg_rate\n",
    "\n",
    "# Get the experiment run context\n",
    "run = Run.get_context()\n",
    "\n",
    "# Get the training dataset\n",
    "print(\"Loading Data...\")\n",
    "diabetes = run.input_datasets['training_data'].to_pandas_dataframe()\n",
    "\n",
    "# Separate features and labels\n",
    "X, y = diabetes[['Pregnancies','PlasmaGlucose','DiastolicBloodPressure','TricepsThickness','SerumInsulin','BMI','DiabetesPedigree','Age']].values, diabetes['Diabetic'].values\n",
    "\n",
    "# Split data into training set and test set\n",
    "X_train, X_test, y_train, y_test = train_test_split(X, y, test_size=0.30, random_state=0)\n",
    "\n",
    "# Train a logistic regression model\n",
    "print('Training a logistic regression model with regularization rate of', reg)\n",
    "run.log('Regularization Rate',  np.float(reg))\n",
    "model = LogisticRegression(C=1/reg, solver=\"liblinear\").fit(X_train, y_train)\n",
    "\n",
    "# calculate accuracy\n",
    "y_hat = model.predict(X_test)\n",
    "acc = np.average(y_hat == y_test)\n",
    "print('Accuracy:', acc)\n",
    "run.log('Accuracy', np.float(acc))\n",
    "\n",
    "# calculate AUC\n",
    "y_scores = model.predict_proba(X_test)\n",
    "auc = roc_auc_score(y_test,y_scores[:,1])\n",
    "print('AUC: ' + str(auc))\n",
    "run.log('AUC', np.float(auc))\n",
    "\n",
    "os.makedirs('outputs', exist_ok=True)\n",
    "# note file saved in the outputs folder is automatically uploaded into experiment record\n",
    "joblib.dump(value=model, filename='outputs/diabetes_model.pkl')\n",
    "\n",
    "run.upload_file('outputs/diabetes_model.pkl','outputs/diabetes_model.pkl')\n",
    "\n",
    "run.complete()\n",
    "\n",
    "\n",
    "# Get current model version accuracy.\n",
    "msi_auth = MsiAuthentication()\n",
    "\n",
    "ws = Workspace(subscription_id=subscription_id,\n",
    "               resource_group=resource_group,\n",
    "               workspace_name=workspace_name,\n",
    "               auth=msi_auth)\n",
    "\n",
    "model_current = Model(ws, name=model_name)\n",
    "published_model_accuracy = model_current.properties['Accuracy']\n",
    "\n",
    "\n",
    "# Compare current published model to model trained in this run.\n",
    "if float(run.get_metrics()['Accuracy']) > float(published_model_accuracy):\n",
    "    run.register_model(model_path='./outputs/diabetes_model.pkl', model_name=model_name,\n",
    "                   tags={'Training context':'Pipeline Training'},\n",
    "                   properties={'AUC': run.get_metrics()['AUC'], 'Accuracy': run.get_metrics()['Accuracy'], 'Experiment':experiment_name, 'ExperimentRunId': run.get_details()['runId']})\n",
    "    print('Published new model')\n"
   ]
  },
  {
   "cell_type": "code",
   "execution_count": null,
   "metadata": {},
   "outputs": [],
   "source": [
    "%%writefile $experiment_folder/train_environment.yml\n",
    "name: train_environment\n",
    "dependencies:\n",
    "- python=3.6.2\n",
    "- scikit-learn\n",
    "- pandas\n",
    "- numpy\n",
    "- pip\n",
    "- pip:\n",
    "  - azureml-defaults"
   ]
  },
  {
   "cell_type": "code",
   "execution_count": null,
   "metadata": {},
   "outputs": [],
   "source": [
    "from azureml.core.compute import ComputeTarget, AmlCompute\n",
    "\n",
    "aml_compute_target = \"prod-cluster\"\n",
    "\n",
    "aml_compute = AmlCompute(ws, aml_compute_target)\n",
    "print(\"found existing compute target.\")\n",
    "print(\"Azure Machine Learning Compute attached\")"
   ]
  },
  {
   "cell_type": "code",
   "execution_count": null,
   "metadata": {},
   "outputs": [],
   "source": [
    "from azureml.core import Dataset\n",
    "\n",
    "diabetes_ds = ws.datasets.get(tabular_dataset_name)\n",
    "\n",
    "print('Found registered dataset ' + diabetes_ds.name)"
   ]
  },
  {
   "cell_type": "code",
   "execution_count": null,
   "metadata": {},
   "outputs": [],
   "source": [
    "from azureml.core import Environment\n",
    "from azureml.core import ScriptRunConfig\n",
    "\n",
    "train_env = Environment.from_conda_specification(\n",
    "    name=\"diabetes-train-env\", file_path=\"./experiment_folder/train_environment.yml\"\n",
    ")\n",
    "\n",
    "train_cfg = ScriptRunConfig(\n",
    "    source_directory='experiment_folder',\n",
    "    script=\"diabetes_training.py\",\n",
    "    arguments = ['--regularization', 0.1],\n",
    "    compute_target=aml_compute,\n",
    "    environment=train_env,\n",
    ")"
   ]
  },
  {
   "cell_type": "code",
   "execution_count": null,
   "metadata": {},
   "outputs": [],
   "source": [
    "from azureml.pipeline.steps import PythonScriptStep\n",
    "\n",
    "train_step = PythonScriptStep(name='train_step',\n",
    "                            source_directory=train_cfg.source_directory,\n",
    "                            script_name=train_cfg.script,\n",
    "                            runconfig=train_cfg.run_config,\n",
    "                            inputs=[diabetes_ds.as_named_input('training_data')],\n",
    "                            allow_reuse=False\n",
    "                            )\n",
    "\n",
    "print(\"Step1 created\")"
   ]
  },
  {
   "cell_type": "code",
   "execution_count": null,
   "metadata": {
    "scrolled": true
   },
   "outputs": [],
   "source": [
    "from azureml.core import Experiment\n",
    "from azureml.pipeline.core import Pipeline\n",
    "from azureml.widgets import RunDetails\n",
    "\n",
    "pipeline = Pipeline(workspace=ws, steps=[train_step])\n",
    "pipeline_run = Experiment(ws, experiment_name).submit(pipeline, regenerate_outputs=False)\n",
    "RunDetails(pipeline_run).show()\n",
    "pipeline_run.wait_for_completion()"
   ]
  },
  {
   "cell_type": "code",
   "execution_count": null,
   "metadata": {},
   "outputs": [],
   "source": [
    "pipeline.publish(name=experiment_name, description=\"Train new model. Validate against current model and deploy.\")"
   ]
  },
  {
   "cell_type": "markdown",
   "metadata": {},
   "source": [
    "## Data Drift Pipeline"
   ]
  },
  {
   "cell_type": "code",
   "execution_count": null,
   "metadata": {},
   "outputs": [],
   "source": [
    "import os\n",
    "\n",
    "# Create a folder for the experiment files\n",
    "data_drift_folder = 'data_drift_folder'\n",
    "os.makedirs(data_drift_folder + '/baseline', exist_ok=True)\n",
    "os.makedirs(data_drift_folder + '/target', exist_ok=True)\n",
    "print(data_drift_folder, 'folder created')"
   ]
  },
  {
   "cell_type": "code",
   "execution_count": null,
   "metadata": {},
   "outputs": [],
   "source": [
    "import datetime as dt\n",
    "from datetime import timedelta\n",
    "import pandas as pd\n",
    "import numpy as np\n",
    "\n",
    "df_baseline = pd.read_csv('../../data/diabetes2.csv')\n",
    "df_target = df_baseline.copy()\n",
    "\n",
    "# Modify data to ceate some drift\n",
    "df_target['Pregnancies'] = df_target['Pregnancies'] + 1\n",
    "df_target['Age'] = round(df_target['Age'] * 1.2).astype(int)\n",
    "df_target['BMI'] = df_target['BMI'] * 1.1\n",
    "\n",
    "row_count = df_baseline.shape[0]\n",
    "\n",
    "baseline_date = dt.date(2022,1,1)\n",
    "target_date = dt.date(2022,2,1)\n",
    "\n",
    "baseline_date_column = []\n",
    "target_date_column = []\n",
    "for day in range(row_count):\n",
    "    baseline_date_column.append(baseline_date)\n",
    "    target_date_column.append(target_date)\n",
    "\n",
    "df_baseline['Datetime'] = baseline_date_column\n",
    "df_target['Datetime'] = target_date_column\n",
    "\n",
    "df_baseline.head()\n",
    "\n",
    "df_baseline.to_csv(data_drift_folder + '/baseline/diabetes_baseline.csv')\n",
    "df_target.to_csv(data_drift_folder + '/target/diabetes_target.csv')"
   ]
  },
  {
   "cell_type": "code",
   "execution_count": null,
   "metadata": {},
   "outputs": [],
   "source": [
    "from azureml.core import Datastore, Dataset\n",
    "from azureml.data.datapath import DataPath\n",
    "\n",
    "adls_name = 'adlsraw'\n",
    "\n",
    "datastore = Datastore.get(ws, adls_name)\n",
    "\n",
    "Register baseline dataset\n",
    "Dataset.File.upload_directory(src_dir=data_drift_folder + '/baseline',\n",
    "           target=DataPath(datastore,  'diabetes/' + userid + '/baseline/'),\n",
    "           show_progress=True)\n",
    "\n",
    "diabetes_baseline_ds = Dataset.Tabular.from_delimited_files(path=(datastore,'diabetes/jodobrze/baseline'))\n",
    "diabetes_baseline_ds.register(ws,name='diabetes-data-baseline-jodobrze',create_new_version=False)\n",
    "\n",
    "# Register target dataset\n",
    "Dataset.File.upload_directory(src_dir=data_drift_folder + '/target',\n",
    "           target=DataPath(datastore,  'diabetes/' + userid + '/target/'),\n",
    "           show_progress=True)\n",
    "\n",
    "diabetes_target_ds = Dataset.Tabular.from_delimited_files(path=(datastore,'diabetes/jodobrze/target'))\n",
    "diabetes_target_ds.with_timestamp_columns('Datetime').register(ws,name='diabetes-data-target-jodobrze',create_new_version=False)"
   ]
  },
  {
   "cell_type": "code",
   "execution_count": null,
   "metadata": {},
   "outputs": [],
   "source": [
    "%%writefile $data_drift_folder/diabetes_drift_monitor.py\n",
    "import argparse\n",
    "from azureml.core import Workspace\n",
    "from azureml.core.authentication import MsiAuthentication\n",
    "from azureml.datadrift import DataDriftDetector\n",
    "from datetime import datetime\n",
    "\n",
    "parser = argparse.ArgumentParser()\n",
    "parser.add_argument('--target-date', type=str, dest='target_date', default='2022-02-01', help='target date')\n",
    "args = parser.parse_args()\n",
    "\n",
    "subscription_id = ''\n",
    "resource_group = ''\n",
    "workspace_name = ''\n",
    "\n",
    "target_date = args.target_date\n",
    "target_datetime = datetime.strptime(target_date, '%Y-%m-%d')\n",
    "\n",
    "msi_auth = MsiAuthentication()\n",
    "\n",
    "ws = Workspace(subscription_id=subscription_id,\n",
    "               resource_group=resource_group,\n",
    "               workspace_name=workspace_name,\n",
    "               auth=msi_auth)\n",
    "\n",
    "monitor = DataDriftDetector.get_by_name(ws,name='diabetes-jodobrze-drift-monitor')\n",
    "print(monitor)\n",
    "\n",
    "monitor_run = monitor.run(target_date=target_datetime)\n",
    "\n",
    "monitor_run.wait_for_completion()\n",
    "\n",
    "drift_percent = monitor_run.get_metrics()['Datadrift percentage']['drift_percentage']\n",
    "\n",
    "print(drift_percent)\n"
   ]
  },
  {
   "cell_type": "code",
   "execution_count": null,
   "metadata": {},
   "outputs": [],
   "source": [
    "%%writefile $data_drift_folder/drift_environment.yml\n",
    "name: train_environment\n",
    "dependencies:\n",
    "- python=3.6.2\n",
    "- scikit-learn\n",
    "- pandas\n",
    "- numpy\n",
    "- pip\n",
    "- pip:\n",
    "  - azureml-defaults\n",
    "  - azureml-datadrift"
   ]
  },
  {
   "cell_type": "code",
   "execution_count": null,
   "metadata": {},
   "outputs": [],
   "source": [
    "from azureml.core.compute import ComputeTarget, AmlCompute\n",
    "\n",
    "aml_compute_target = \"dev-cluster\"\n",
    "\n",
    "aml_compute_drift_target = AmlCompute(ws, aml_compute_target)\n",
    "print(\"found existing compute target.\")\n",
    "print(\"Azure Machine Learning Compute attached\")"
   ]
  },
  {
   "cell_type": "code",
   "execution_count": null,
   "metadata": {},
   "outputs": [],
   "source": [
    "from azureml.datadrift import DataDriftDetector\n",
    "monitor = DataDriftDetector.get_by_name(ws,name='diabetes-jodobrze-drift-monitor')\n",
    "type(monitor)\n",
    "# monitor_run = monitor.run(target_date=target_datetime)\n",
    "\n"
   ]
  },
  {
   "cell_type": "code",
   "execution_count": null,
   "metadata": {},
   "outputs": [],
   "source": [
    "from azureml.core import Experiment\n",
    "from azureml.pipeline.core import Pipeline\n",
    "from azureml.widgets import RunDetails\n",
    "from datetime import datetime\n",
    "\n",
    "target_date = '2022-02-01'\n",
    "target_datetime = datetime.strptime(target_date, '%Y-%m-%d')\n",
    "\n",
    "drift_pipeline_1 = Pipeline(workspace=ws, steps=[monitor.run(target_date=target_datetime)])\n",
    "\n",
    "# RunDetails(drift_pipeline_run).show()\n",
    "# drift_pipeline_run.wait_for_completion()"
   ]
  },
  {
   "cell_type": "code",
   "execution_count": null,
   "metadata": {},
   "outputs": [],
   "source": [
    "drift_pipeline_run = Experiment(ws, 'diabetes-jodobrze-drift-monitor-Monitor-Runs').submit(drift_pipeline, regenerate_outputs=False)"
   ]
  },
  {
   "cell_type": "code",
   "execution_count": null,
   "metadata": {},
   "outputs": [],
   "source": [
    "from azureml.core import Environment\n",
    "from azureml.core import ScriptRunConfig\n",
    "\n",
    "drift_env = Environment.from_conda_specification(\n",
    "    name=\"diabetes-drift-env\", file_path=\"./data_drift_folder/drift_environment.yml\"\n",
    ")\n",
    "\n",
    "drift_cfg = ScriptRunConfig(\n",
    "    source_directory='data_drift_folder',\n",
    "    script=\"diabetes_drift_monitor.py\",\n",
    "    arguments = ['--target-date', '2022-02-01'],\n",
    "    compute_target=aml_compute_drift_target,\n",
    "    environment=drift_env,\n",
    ")"
   ]
  },
  {
   "cell_type": "code",
   "execution_count": null,
   "metadata": {},
   "outputs": [],
   "source": [
    "from azureml.pipeline.steps import PythonScriptStep\n",
    "\n",
    "drift_monitor_step = PythonScriptStep(name='drift_monitor_step',\n",
    "                            source_directory=drift_cfg.source_directory,\n",
    "                            script_name=drift_cfg.script,\n",
    "                            runconfig=drift_cfg.run_config,\n",
    "                            allow_reuse=False\n",
    "                            )\n",
    "\n",
    "print(\"Step1 created\")"
   ]
  },
  {
   "cell_type": "code",
   "execution_count": null,
   "metadata": {},
   "outputs": [],
   "source": [
    "from azureml.core import Experiment\n",
    "from azureml.pipeline.core import Pipeline\n",
    "from azureml.widgets import RunDetails\n",
    "\n",
    "drift_pipeline = Pipeline(workspace=ws, steps=[drift_monitor_step])\n",
    "drift_pipeline_run = Experiment(ws, 'diabetes-jodobrze-drift-monitor-Monitor-Runs').submit(drift_pipeline, regenerate_outputs=False)\n",
    "RunDetails(drift_pipeline_run).show()\n",
    "drift_pipeline_run.wait_for_completion()"
   ]
  },
  {
   "cell_type": "code",
   "execution_count": null,
   "metadata": {},
   "outputs": [],
   "source": [
    "drift_pipeline.publish(name='pipeline-drift-monitor-diabetes-jodobrze-prod', description=\"Execute data drift monitor for diabetes.\")"
   ]
  },
  {
   "cell_type": "markdown",
   "metadata": {},
   "source": [
    "### Clean-up local workspace\n",
    "Remove files and directories created during exercise."
   ]
  },
  {
   "cell_type": "code",
   "execution_count": null,
   "metadata": {},
   "outputs": [],
   "source": [
    "import os\n",
    "import shutil\n",
    "\n",
    "shutil.rmtree('experiment_folder', ignore_errors=True)\n",
    "shutil.rmtree('diabetes_training_pipeline', ignore_errors=True)\n",
    "shutil.rmtree('azureml-models', ignore_errors=True)\n",
    "shutil.rmtree('outputs', ignore_errors=True)\n",
    "shutil.rmtree('data_drift_folder', ignore_errors=True)\n"
   ]
  }
 ],
 "metadata": {
  "interpreter": {
   "hash": "a4c6afd7f173e0e931b0843fe6a0c2993fb0269572e807aff8dc4b63e60c94bb"
  },
  "kernelspec": {
   "display_name": "Python 3.6 - AzureML",
   "language": "python",
   "name": "python3"
  },
  "language_info": {
   "codemirror_mode": {
    "name": "ipython",
    "version": 3
   },
   "file_extension": ".py",
   "mimetype": "text/x-python",
   "name": "python",
   "nbconvert_exporter": "python",
   "pygments_lexer": "ipython3",
   "version": "3.7.3"
  }
 },
 "nbformat": 4,
 "nbformat_minor": 2
}
