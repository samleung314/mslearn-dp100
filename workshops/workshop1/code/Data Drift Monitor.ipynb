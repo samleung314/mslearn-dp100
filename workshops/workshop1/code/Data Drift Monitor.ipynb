{
 "cells": [
  {
   "cell_type": "markdown",
   "metadata": {},
   "source": [
    "# Data Drift Monitor\n",
    "In this exercise we will create a Data Drift monitor on a target dataset in our Azure Machine Learning (AML) workspace. We'll then establish a pipeline for triggering the Data Drift monitor that we can orchestrate with the model retraining pipeline that was created in an earlier exercise.\n",
    "\n",
    "The Data Drift monitor is one option for monitoring ML models in production and singling the need for a model retrain. The other option would comparing actuals to predictions. Monitoring models and pipelines is a core concept of MLOps. The result of this exercise will establish a data drift monitor pipeline that will be orchestrated with a retraining pipeline using Azure Data Factory."
   ]
  },
  {
   "cell_type": "markdown",
   "metadata": {},
   "source": [
    "## Step 1: Create Target and Baseline Datasets\n",
    "We will first create a target dataset where we simulate data drift for the sake of an example. At the same time we will create a baseline dataset to use as the drift comparison."
   ]
  },
  {
   "cell_type": "code",
   "execution_count": null,
   "metadata": {},
   "outputs": [],
   "source": [
    "import azureml.core\n",
    "from azureml.core import Workspace\n",
    "\n",
    "# Load the workspace from the saved config file\n",
    "ws = Workspace.from_config()\n",
    "print('Ready to use Azure ML {} to work with {}'.format(azureml.core.VERSION, ws.name))"
   ]
  },
  {
   "cell_type": "code",
   "execution_count": null,
   "metadata": {},
   "outputs": [],
   "source": [
    "#TODO: Name your artifacts\n",
    "userid = ''"
   ]
  },
  {
   "cell_type": "code",
   "execution_count": null,
   "metadata": {},
   "outputs": [],
   "source": [
    "import os\n",
    "\n",
    "# Create a folder for the experiment files\n",
    "data_drift_folder = 'data_drift_folder'\n",
    "os.makedirs(data_drift_folder + '/baseline', exist_ok=True)\n",
    "os.makedirs(data_drift_folder + '/target', exist_ok=True)\n",
    "print(data_drift_folder, 'folder created')"
   ]
  },
  {
   "cell_type": "code",
   "execution_count": null,
   "metadata": {},
   "outputs": [],
   "source": [
    "import datetime as dt\n",
    "from datetime import timedelta\n",
    "import pandas as pd\n",
    "import numpy as np\n",
    "\n",
    "df_baseline = pd.read_csv('../data/diabetes/diabetes2.csv')\n",
    "df_target = df_baseline.copy()\n",
    "\n",
    "# Modify data to ceate some drift\n",
    "df_target['Pregnancies'] = df_target['Pregnancies'] + 1\n",
    "df_target['Age'] = round(df_target['Age'] * 1.2).astype(int)\n",
    "df_target['BMI'] = df_target['BMI'] * 1.1\n",
    "\n",
    "row_count = df_baseline.shape[0]\n",
    "\n",
    "baseline_date = dt.date(2022,1,1)\n",
    "target_date = dt.date(2022,2,1)\n",
    "\n",
    "baseline_date_column = []\n",
    "target_date_column = []\n",
    "for day in range(row_count):\n",
    "    baseline_date_column.append(baseline_date)\n",
    "    target_date_column.append(target_date)\n",
    "\n",
    "df_baseline['Datetime'] = baseline_date_column\n",
    "df_target['Datetime'] = target_date_column\n",
    "\n",
    "df_baseline.head()\n",
    "\n",
    "df_baseline.to_csv(data_drift_folder + '/baseline/diabetes_baseline.csv')\n",
    "df_target.to_csv(data_drift_folder + '/target/diabetes_target.csv')"
   ]
  },
  {
   "cell_type": "code",
   "execution_count": null,
   "metadata": {},
   "outputs": [],
   "source": [
    "from azureml.core import Datastore, Dataset\n",
    "from azureml.data.datapath import DataPath\n",
    "\n",
    "datastore_name = 'workshop_datalake'\n",
    "\n",
    "datastore = Datastore.get(ws, datastore_name)\n",
    "\n",
    "# Register baseline dataset\n",
    "Dataset.File.upload_directory(src_dir=data_drift_folder + '/baseline',\n",
    "           target=DataPath(datastore,  '0-raw/diabetes/' + userid + '/baseline/'),\n",
    "           show_progress=True)\n",
    "\n",
    "diabetes_baseline_ds = Dataset.Tabular.from_delimited_files(path=(datastore,'0-raw/diabetes/' + userid + '/baseline'))\n",
    "diabetes_baseline_ds.register(ws,name='diabetes-data-baseline-' + userid ,create_new_version=False)\n",
    "\n",
    "# Register target dataset\n",
    "Dataset.File.upload_directory(src_dir=data_drift_folder + '/target',\n",
    "           target=DataPath(datastore,  '0-raw/diabetes/' + userid + '/target/'),\n",
    "           show_progress=True)\n",
    "\n",
    "diabetes_target_ds = Dataset.Tabular.from_delimited_files(path=(datastore,'0-raw/diabetes/' + userid + '/target'))\n",
    "# Note the addition of .with_timestamp_columns. This is required for the dataset to be used as a Data Drift Monitor target dataset.\n",
    "diabetes_target_ds.with_timestamp_columns('Datetime').register(ws,name='diabetes-data-target-' + userid,create_new_version=False)"
   ]
  },
  {
   "cell_type": "markdown",
   "metadata": {},
   "source": [
    "## Step 2: Create Data Drift Monitor\n",
    "In this step we will create a data drift monitor using the AML Studio."
   ]
  },
  {
   "cell_type": "markdown",
   "metadata": {},
   "source": [
    "1. In the AML Studio, navigate to <b>Datasets</b>.\n",
    "1. Select the <b>Dataset monitors</b> tab.\n",
    "1. Press the <b>+ Create</b> button.\n",
    "\n",
    "![AML studio screen with Create button for Data Drift Monitor](./img/dfcreatebutton.png)"
   ]
  },
  {
   "cell_type": "markdown",
   "metadata": {},
   "source": [
    "1. Select the target dataset registered in Step 1.\n",
    "1. Press <b>Next</b>\n",
    "\n",
    "![Data Drift Monitor wizard Select target dataset screen](./img/dfselecttarget.png)"
   ]
  },
  {
   "cell_type": "markdown",
   "metadata": {},
   "source": [
    "1. Select the <b>Choose a baseline dataset</b> radio button.\n",
    "1. Choose the baseline dataset registered in Step 1.\n",
    "1. Press <b>Next</b>\n",
    "\n",
    "![Data Drift Monitor wizard Select baseline dataset screen](./img/dfselectbaseline.png)"
   ]
  },
  {
   "cell_type": "markdown",
   "metadata": {},
   "source": [
    "1. Name the drift monitor using the convention \"diabetes-drift-monitor-\\<userid\\>\"\n",
    "1. In <b>Features</b> select <b>Pregnancies, Age, BMI</b>.\n",
    "1. Choose the desired Compute Cluster for <b>Compute Target</b>.\n",
    "1. Disable the monitor with the switch under <b>Enable or disable schedule monitor runs</b>.\n",
    "1. Set <b>Threshold</b> to <b>10%</b>.\n",
    "1. Press <b>Create</b>.\n",
    "\n",
    "![Data Drift Monitor wizard Monitor settings screen](./img/dfmonitorsettings.png)"
   ]
  },
  {
   "cell_type": "markdown",
   "metadata": {},
   "source": [
    "Finally, we will test the new Data Drift Monitor with a target date run of '2022-02-01', the date we added to the baseline dataset in Step 1."
   ]
  },
  {
   "cell_type": "code",
   "execution_count": null,
   "metadata": {},
   "outputs": [],
   "source": [
    "from azureml.datadrift import DataDriftDetector\n",
    "from datetime import datetime\n",
    "\n",
    "monitor = DataDriftDetector.get_by_name(ws,name='diabetes-drift-monitor-' + userid)\n",
    "print(monitor)\n",
    "\n",
    "target_datetime = datetime.strptime('2022-02-01', '%Y-%m-%d')\n",
    "\n",
    "monitor_run = monitor.run(target_date=target_datetime)\n",
    "\n",
    "monitor_run.wait_for_completion()\n",
    "\n",
    "drift_percent = monitor_run.get_metrics()['Datadrift percentage']['drift_percentage']\n",
    "\n",
    "print(drift_percent)"
   ]
  },
  {
   "cell_type": "markdown",
   "metadata": {},
   "source": [
    "## Step 3: Create Pipeline for Data Drift Monitor\n",
    "In this step we create a pipeline that authenticates with the AML workspace and submits are target date run of the Data Drift Monitor created in Step 2. The drift percentage metric is then logged to the pipeline, so that it can be retrieved from the retraining pipeline."
   ]
  },
  {
   "cell_type": "code",
   "execution_count": null,
   "metadata": {},
   "outputs": [],
   "source": [
    "%%writefile $data_drift_folder/diabetes_drift_monitor.py\n",
    "import argparse\n",
    "from azureml.core import Workspace, Run, Experiment\n",
    "from azureml.pipeline.core import PipelineRun\n",
    "from azureml.core.authentication import MsiAuthentication\n",
    "from azureml.datadrift import DataDriftDetector\n",
    "from datetime import datetime\n",
    "\n",
    "parser = argparse.ArgumentParser()\n",
    "parser.add_argument('--target-date', type=str, dest='target_date', default='', help='target date')\n",
    "args = parser.parse_args()\n",
    "\n",
    "#TODO: Provide userid and workspace values\n",
    "userid = ''\n",
    "subscription_id = ''\n",
    "resource_group = ''\n",
    "workspace_name = ''\n",
    "\n",
    "experiment_name = 'diabetes-drift-monitor-' + userid + '-Monitor-Runs'\n",
    "\n",
    "target_date = args.target_date\n",
    "target_datetime = datetime.strptime(target_date, '%Y-%m-%d')\n",
    "\n",
    "msi_auth = MsiAuthentication()\n",
    "\n",
    "ws = Workspace(subscription_id=subscription_id,\n",
    "               resource_group=resource_group,\n",
    "               workspace_name=workspace_name,\n",
    "               auth=msi_auth)\n",
    "\n",
    "ex = Experiment(ws,name=experiment_name)\n",
    "\n",
    "monitor = DataDriftDetector.get_by_name(ws,name='diabetes-drift-monitor-' + userid)\n",
    "print(monitor)\n",
    "\n",
    "monitor_run = monitor.run(target_date=target_datetime)\n",
    "monitor_run.wait_for_completion()\n",
    "\n",
    "# Log drift percent to pipeline run and tag with runid.\n",
    "drift_percent = monitor_run.get_metrics()['Datadrift percentage']['drift_percentage']\n",
    "pipeline_step_run = Run.get_context()\n",
    "pipeline_run = PipelineRun(ex,run_id=pipeline_step_run.get_properties()['azureml.pipelinerunid'])\n",
    "pipeline_run.log('drift_percent', str(drift_percent))\n",
    "pipeline_run.tag('drift_percent', str(drift_percent))\n",
    "\n",
    "print(drift_percent)"
   ]
  },
  {
   "cell_type": "code",
   "execution_count": null,
   "metadata": {},
   "outputs": [],
   "source": [
    "%%writefile $data_drift_folder/drift_environment.yml\n",
    "name: train_environment\n",
    "dependencies:\n",
    "- python=3.6.2\n",
    "- scikit-learn\n",
    "- pandas\n",
    "- numpy\n",
    "- pip\n",
    "- pip:\n",
    "  - azureml-defaults\n",
    "  - azureml-datadrift"
   ]
  },
  {
   "cell_type": "code",
   "execution_count": null,
   "metadata": {},
   "outputs": [],
   "source": [
    "from azureml.core.compute import ComputeTarget, AmlCompute\n",
    "\n",
    "#TODO: Set compute cluster name\n",
    "aml_compute_target = \"\"\n",
    "\n",
    "aml_compute_drift_target = AmlCompute(ws, aml_compute_target)\n",
    "print(\"found existing compute target.\")\n",
    "print(\"Azure Machine Learning Compute attached\")"
   ]
  },
  {
   "cell_type": "code",
   "execution_count": null,
   "metadata": {},
   "outputs": [],
   "source": [
    "from azureml.core import Environment\n",
    "from azureml.core import ScriptRunConfig\n",
    "from azureml.pipeline.core.graph import PipelineParameter\n",
    "\n",
    "drift_env = Environment.from_conda_specification(\n",
    "    name=\"diabetes-drift-env\", file_path=\"./data_drift_folder/drift_environment.yml\"\n",
    ")\n",
    "\n",
    "drift_cfg = ScriptRunConfig(\n",
    "    source_directory='data_drift_folder',\n",
    "    script=\"diabetes_drift_monitor.py\",\n",
    "    compute_target=aml_compute_drift_target,\n",
    "    environment=drift_env,\n",
    ")"
   ]
  },
  {
   "cell_type": "code",
   "execution_count": null,
   "metadata": {},
   "outputs": [],
   "source": [
    "from azureml.pipeline.steps import PythonScriptStep\n",
    "\n",
    "pipeline_param = PipelineParameter(\n",
    "  name=\"target-date\",\n",
    "  default_value='')\n",
    "\n",
    "drift_monitor_step = PythonScriptStep(name='drift_monitor_step',\n",
    "                            source_directory=drift_cfg.source_directory,\n",
    "                            script_name=drift_cfg.script,\n",
    "                            runconfig=drift_cfg.run_config,\n",
    "                            arguments = ['--target-date', pipeline_param],\n",
    "                            allow_reuse=False\n",
    "                            )\n",
    "\n",
    "print(\"Step1 created\")"
   ]
  },
  {
   "cell_type": "code",
   "execution_count": null,
   "metadata": {},
   "outputs": [],
   "source": [
    "from azureml.core import Experiment\n",
    "from azureml.pipeline.core import Pipeline\n",
    "from azureml.widgets import RunDetails\n",
    "\n",
    "drift_pipeline = Pipeline(workspace=ws, steps=[drift_monitor_step])\n",
    "drift_pipeline_run = drift_pipeline.submit(experiment_name='diabetes-drift-monitor-' + userid + '-Monitor-Runs'\n",
    "                                            ,pipeline_parameters={'target-date':'2022-02-01'})\n",
    "                                            \n",
    "RunDetails(drift_pipeline_run).show()\n",
    "drift_pipeline_run.wait_for_completion()"
   ]
  },
  {
   "cell_type": "code",
   "execution_count": null,
   "metadata": {},
   "outputs": [],
   "source": [
    "published_pipeline = drift_pipeline.publish(name='pipeline-drift-monitor-diabetes-' + userid + '-prod', description=\"Execute data drift monitor for diabetes.\")"
   ]
  },
  {
   "cell_type": "markdown",
   "metadata": {},
   "source": [
    "!Note: Run the below code once to create a consistent endpoint."
   ]
  },
  {
   "cell_type": "code",
   "execution_count": null,
   "metadata": {},
   "outputs": [],
   "source": [
    "from azureml.pipeline.core import PipelineEndpoint, PublishedPipeline\n",
    "\n",
    "pipeline_endpoint = PipelineEndpoint.publish(workspace=ws, name='endpoint-drift-monitor-diabetes-' + userid + '-prod',\n",
    "                                            pipeline=published_pipeline, description=\"Endpoint\")\n",
    "\n",
    "pipeline_endpoint"
   ]
  },
  {
   "cell_type": "markdown",
   "metadata": {},
   "source": [
    "### Clean-up local workspace\n",
    "Remove files and directories created during exercise."
   ]
  },
  {
   "cell_type": "code",
   "execution_count": null,
   "metadata": {},
   "outputs": [],
   "source": [
    "import os\n",
    "import shutil\n",
    "\n",
    "shutil.rmtree('data_drift_folder', ignore_errors=True)"
   ]
  }
 ],
 "metadata": {
  "interpreter": {
   "hash": "a4c6afd7f173e0e931b0843fe6a0c2993fb0269572e807aff8dc4b63e60c94bb"
  },
  "kernelspec": {
   "display_name": "Python 3.7.3 ('base')",
   "language": "python",
   "name": "python3"
  },
  "language_info": {
   "codemirror_mode": {
    "name": "ipython",
    "version": 3
   },
   "file_extension": ".py",
   "mimetype": "text/x-python",
   "name": "python",
   "nbconvert_exporter": "python",
   "pygments_lexer": "ipython3",
   "version": "3.7.3"
  },
  "orig_nbformat": 4
 },
 "nbformat": 4,
 "nbformat_minor": 2
}
